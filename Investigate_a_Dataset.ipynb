{
 "cells": [
  {
   "cell_type": "markdown",
   "id": "0e26ccba",
   "metadata": {},
   "source": [
    "Project: Investigate a Dataset - [TMDB MOVIE DATA]"
   ]
  },
  {
   "cell_type": "markdown",
   "id": "07bc8d77",
   "metadata": {},
   "source": [
    "INTRODUCTION\n",
    "\n",
    "This data set contains information of about 10,000 movies collected from The Movie Database (TMDb),including user ratings \n",
    "and revenue. Columns such as popularity,budget,revenue,cast,genres,release_year,vote_average can help answer questions like\n",
    "predicting movies that are most popular/highly rated?, which genres of movies from the dataset has been worked on more from year to year?,does the number of movies a certain Director has worked on determine how popular/succesful his movie can be?.\n"
   ]
  },
  {
   "cell_type": "code",
   "execution_count": 1,
   "id": "449c8c5a",
   "metadata": {},
   "outputs": [],
   "source": [
    "#lets import our packages to use in this project\n",
    "\n",
    "import pandas as pd\n",
    "import numpy as np\n",
    "import matplotlib.pyplot as plt\n",
    "import seaborn as sns\n",
    "%matplotlib inline"
   ]
  },
  {
   "cell_type": "markdown",
   "id": "4d93a81a",
   "metadata": {},
   "source": [
    "DATA WRANGLING\n",
    "\n",
    "To gather,assess and clean our datasets"
   ]
  },
  {
   "cell_type": "code",
   "execution_count": 7,
   "id": "82b02566",
   "metadata": {
    "scrolled": true
   },
   "outputs": [
    {
     "data": {
      "text/html": [
       "<div>\n",
       "<style scoped>\n",
       "    .dataframe tbody tr th:only-of-type {\n",
       "        vertical-align: middle;\n",
       "    }\n",
       "\n",
       "    .dataframe tbody tr th {\n",
       "        vertical-align: top;\n",
       "    }\n",
       "\n",
       "    .dataframe thead th {\n",
       "        text-align: right;\n",
       "    }\n",
       "</style>\n",
       "<table border=\"1\" class=\"dataframe\">\n",
       "  <thead>\n",
       "    <tr style=\"text-align: right;\">\n",
       "      <th></th>\n",
       "      <th>id</th>\n",
       "      <th>imdb_id</th>\n",
       "      <th>popularity</th>\n",
       "      <th>budget</th>\n",
       "      <th>revenue</th>\n",
       "      <th>original_title</th>\n",
       "      <th>cast</th>\n",
       "      <th>homepage</th>\n",
       "      <th>director</th>\n",
       "      <th>tagline</th>\n",
       "      <th>...</th>\n",
       "      <th>overview</th>\n",
       "      <th>runtime</th>\n",
       "      <th>genres</th>\n",
       "      <th>production_companies</th>\n",
       "      <th>release_date</th>\n",
       "      <th>vote_count</th>\n",
       "      <th>vote_average</th>\n",
       "      <th>release_year</th>\n",
       "      <th>budget_adj</th>\n",
       "      <th>revenue_adj</th>\n",
       "    </tr>\n",
       "  </thead>\n",
       "  <tbody>\n",
       "    <tr>\n",
       "      <th>0</th>\n",
       "      <td>135397</td>\n",
       "      <td>tt0369610</td>\n",
       "      <td>32.985763</td>\n",
       "      <td>150000000</td>\n",
       "      <td>1513528810</td>\n",
       "      <td>Jurassic World</td>\n",
       "      <td>Chris Pratt|Bryce Dallas Howard|Irrfan Khan|Vi...</td>\n",
       "      <td>http://www.jurassicworld.com/</td>\n",
       "      <td>Colin Trevorrow</td>\n",
       "      <td>The park is open.</td>\n",
       "      <td>...</td>\n",
       "      <td>Twenty-two years after the events of Jurassic ...</td>\n",
       "      <td>124</td>\n",
       "      <td>Action|Adventure|Science Fiction|Thriller</td>\n",
       "      <td>Universal Studios|Amblin Entertainment|Legenda...</td>\n",
       "      <td>6/9/2015</td>\n",
       "      <td>5562</td>\n",
       "      <td>6.5</td>\n",
       "      <td>2015</td>\n",
       "      <td>137999939.3</td>\n",
       "      <td>1.392446e+09</td>\n",
       "    </tr>\n",
       "    <tr>\n",
       "      <th>1</th>\n",
       "      <td>76341</td>\n",
       "      <td>tt1392190</td>\n",
       "      <td>28.419936</td>\n",
       "      <td>150000000</td>\n",
       "      <td>378436354</td>\n",
       "      <td>Mad Max: Fury Road</td>\n",
       "      <td>Tom Hardy|Charlize Theron|Hugh Keays-Byrne|Nic...</td>\n",
       "      <td>http://www.madmaxmovie.com/</td>\n",
       "      <td>George Miller</td>\n",
       "      <td>What a Lovely Day.</td>\n",
       "      <td>...</td>\n",
       "      <td>An apocalyptic story set in the furthest reach...</td>\n",
       "      <td>120</td>\n",
       "      <td>Action|Adventure|Science Fiction|Thriller</td>\n",
       "      <td>Village Roadshow Pictures|Kennedy Miller Produ...</td>\n",
       "      <td>5/13/2015</td>\n",
       "      <td>6185</td>\n",
       "      <td>7.1</td>\n",
       "      <td>2015</td>\n",
       "      <td>137999939.3</td>\n",
       "      <td>3.481613e+08</td>\n",
       "    </tr>\n",
       "    <tr>\n",
       "      <th>2</th>\n",
       "      <td>262500</td>\n",
       "      <td>tt2908446</td>\n",
       "      <td>13.112507</td>\n",
       "      <td>110000000</td>\n",
       "      <td>295238201</td>\n",
       "      <td>Insurgent</td>\n",
       "      <td>Shailene Woodley|Theo James|Kate Winslet|Ansel...</td>\n",
       "      <td>http://www.thedivergentseries.movie/#insurgent</td>\n",
       "      <td>Robert Schwentke</td>\n",
       "      <td>One Choice Can Destroy You</td>\n",
       "      <td>...</td>\n",
       "      <td>Beatrice Prior must confront her inner demons ...</td>\n",
       "      <td>119</td>\n",
       "      <td>Adventure|Science Fiction|Thriller</td>\n",
       "      <td>Summit Entertainment|Mandeville Films|Red Wago...</td>\n",
       "      <td>3/18/2015</td>\n",
       "      <td>2480</td>\n",
       "      <td>6.3</td>\n",
       "      <td>2015</td>\n",
       "      <td>101199955.5</td>\n",
       "      <td>2.716190e+08</td>\n",
       "    </tr>\n",
       "    <tr>\n",
       "      <th>3</th>\n",
       "      <td>140607</td>\n",
       "      <td>tt2488496</td>\n",
       "      <td>11.173104</td>\n",
       "      <td>200000000</td>\n",
       "      <td>2068178225</td>\n",
       "      <td>Star Wars: The Force Awakens</td>\n",
       "      <td>Harrison Ford|Mark Hamill|Carrie Fisher|Adam D...</td>\n",
       "      <td>http://www.starwars.com/films/star-wars-episod...</td>\n",
       "      <td>J.J. Abrams</td>\n",
       "      <td>Every generation has a story.</td>\n",
       "      <td>...</td>\n",
       "      <td>Thirty years after defeating the Galactic Empi...</td>\n",
       "      <td>136</td>\n",
       "      <td>Action|Adventure|Science Fiction|Fantasy</td>\n",
       "      <td>Lucasfilm|Truenorth Productions|Bad Robot</td>\n",
       "      <td>12/15/2015</td>\n",
       "      <td>5292</td>\n",
       "      <td>7.5</td>\n",
       "      <td>2015</td>\n",
       "      <td>183999919.0</td>\n",
       "      <td>1.902723e+09</td>\n",
       "    </tr>\n",
       "    <tr>\n",
       "      <th>4</th>\n",
       "      <td>168259</td>\n",
       "      <td>tt2820852</td>\n",
       "      <td>9.335014</td>\n",
       "      <td>190000000</td>\n",
       "      <td>1506249360</td>\n",
       "      <td>Furious 7</td>\n",
       "      <td>Vin Diesel|Paul Walker|Jason Statham|Michelle ...</td>\n",
       "      <td>http://www.furious7.com/</td>\n",
       "      <td>James Wan</td>\n",
       "      <td>Vengeance Hits Home</td>\n",
       "      <td>...</td>\n",
       "      <td>Deckard Shaw seeks revenge against Dominic Tor...</td>\n",
       "      <td>137</td>\n",
       "      <td>Action|Crime|Thriller</td>\n",
       "      <td>Universal Pictures|Original Film|Media Rights ...</td>\n",
       "      <td>4/1/2015</td>\n",
       "      <td>2947</td>\n",
       "      <td>7.3</td>\n",
       "      <td>2015</td>\n",
       "      <td>174799923.1</td>\n",
       "      <td>1.385749e+09</td>\n",
       "    </tr>\n",
       "  </tbody>\n",
       "</table>\n",
       "<p>5 rows × 21 columns</p>\n",
       "</div>"
      ],
      "text/plain": [
       "       id    imdb_id  popularity     budget     revenue  \\\n",
       "0  135397  tt0369610   32.985763  150000000  1513528810   \n",
       "1   76341  tt1392190   28.419936  150000000   378436354   \n",
       "2  262500  tt2908446   13.112507  110000000   295238201   \n",
       "3  140607  tt2488496   11.173104  200000000  2068178225   \n",
       "4  168259  tt2820852    9.335014  190000000  1506249360   \n",
       "\n",
       "                 original_title  \\\n",
       "0                Jurassic World   \n",
       "1            Mad Max: Fury Road   \n",
       "2                     Insurgent   \n",
       "3  Star Wars: The Force Awakens   \n",
       "4                     Furious 7   \n",
       "\n",
       "                                                cast  \\\n",
       "0  Chris Pratt|Bryce Dallas Howard|Irrfan Khan|Vi...   \n",
       "1  Tom Hardy|Charlize Theron|Hugh Keays-Byrne|Nic...   \n",
       "2  Shailene Woodley|Theo James|Kate Winslet|Ansel...   \n",
       "3  Harrison Ford|Mark Hamill|Carrie Fisher|Adam D...   \n",
       "4  Vin Diesel|Paul Walker|Jason Statham|Michelle ...   \n",
       "\n",
       "                                            homepage          director  \\\n",
       "0                      http://www.jurassicworld.com/   Colin Trevorrow   \n",
       "1                        http://www.madmaxmovie.com/     George Miller   \n",
       "2     http://www.thedivergentseries.movie/#insurgent  Robert Schwentke   \n",
       "3  http://www.starwars.com/films/star-wars-episod...       J.J. Abrams   \n",
       "4                           http://www.furious7.com/         James Wan   \n",
       "\n",
       "                         tagline  ...  \\\n",
       "0              The park is open.  ...   \n",
       "1             What a Lovely Day.  ...   \n",
       "2     One Choice Can Destroy You  ...   \n",
       "3  Every generation has a story.  ...   \n",
       "4            Vengeance Hits Home  ...   \n",
       "\n",
       "                                            overview runtime  \\\n",
       "0  Twenty-two years after the events of Jurassic ...     124   \n",
       "1  An apocalyptic story set in the furthest reach...     120   \n",
       "2  Beatrice Prior must confront her inner demons ...     119   \n",
       "3  Thirty years after defeating the Galactic Empi...     136   \n",
       "4  Deckard Shaw seeks revenge against Dominic Tor...     137   \n",
       "\n",
       "                                      genres  \\\n",
       "0  Action|Adventure|Science Fiction|Thriller   \n",
       "1  Action|Adventure|Science Fiction|Thriller   \n",
       "2         Adventure|Science Fiction|Thriller   \n",
       "3   Action|Adventure|Science Fiction|Fantasy   \n",
       "4                      Action|Crime|Thriller   \n",
       "\n",
       "                                production_companies release_date vote_count  \\\n",
       "0  Universal Studios|Amblin Entertainment|Legenda...     6/9/2015       5562   \n",
       "1  Village Roadshow Pictures|Kennedy Miller Produ...    5/13/2015       6185   \n",
       "2  Summit Entertainment|Mandeville Films|Red Wago...    3/18/2015       2480   \n",
       "3          Lucasfilm|Truenorth Productions|Bad Robot   12/15/2015       5292   \n",
       "4  Universal Pictures|Original Film|Media Rights ...     4/1/2015       2947   \n",
       "\n",
       "   vote_average  release_year   budget_adj   revenue_adj  \n",
       "0           6.5          2015  137999939.3  1.392446e+09  \n",
       "1           7.1          2015  137999939.3  3.481613e+08  \n",
       "2           6.3          2015  101199955.5  2.716190e+08  \n",
       "3           7.5          2015  183999919.0  1.902723e+09  \n",
       "4           7.3          2015  174799923.1  1.385749e+09  \n",
       "\n",
       "[5 rows x 21 columns]"
      ]
     },
     "execution_count": 7,
     "metadata": {},
     "output_type": "execute_result"
    }
   ],
   "source": [
    "#load dataset\n",
    "df_md = pd.read_csv('tmdb-movies.csv')\n",
    "\n",
    "df_md.head()"
   ]
  },
  {
   "cell_type": "markdown",
   "id": "a28a5984",
   "metadata": {},
   "source": [
    "Here,the first five rows of our Datasets above with their columns in view gives \n",
    "us more coverage to learn more about the dataset"
   ]
  },
  {
   "cell_type": "code",
   "execution_count": 8,
   "id": "4ad5661a",
   "metadata": {},
   "outputs": [
    {
     "data": {
      "text/plain": [
       "(10866, 21)"
      ]
     },
     "execution_count": 8,
     "metadata": {},
     "output_type": "execute_result"
    }
   ],
   "source": [
    "df_md.shape"
   ]
  },
  {
   "cell_type": "markdown",
   "id": "bae4cec3",
   "metadata": {},
   "source": [
    "the shape function tells us our dataset is made of 10866 rows and 21 columns ,some columns that are not needed have to be dropped to make my dataset have more integrity and less bulky"
   ]
  },
  {
   "cell_type": "code",
   "execution_count": 9,
   "id": "514edd41",
   "metadata": {},
   "outputs": [
    {
     "data": {
      "text/plain": [
       "array([2015, 2014, 1977, 2009, 2010, 1999, 2001, 2008, 2011, 2002, 1994,\n",
       "       2012, 2003, 1997, 2013, 1985, 2005, 2006, 2004, 1972, 1980, 2007,\n",
       "       1979, 1984, 1983, 1995, 1992, 1981, 1996, 2000, 1982, 1998, 1989,\n",
       "       1991, 1988, 1987, 1968, 1974, 1975, 1962, 1964, 1971, 1990, 1961,\n",
       "       1960, 1976, 1993, 1967, 1963, 1986, 1973, 1970, 1965, 1969, 1978,\n",
       "       1966], dtype=int64)"
      ]
     },
     "execution_count": 9,
     "metadata": {},
     "output_type": "execute_result"
    }
   ],
   "source": [
    "df_md.release_year.unique()"
   ]
  },
  {
   "cell_type": "markdown",
   "id": "3245442b",
   "metadata": {},
   "source": [
    "with the unique years in view,we can base analysis from 2010 to 2015 for the latest trend in 5 years, but lets see as \n",
    "we go on wrangling data"
   ]
  },
  {
   "cell_type": "code",
   "execution_count": 10,
   "id": "235eebfd",
   "metadata": {},
   "outputs": [
    {
     "data": {
      "text/html": [
       "<div>\n",
       "<style scoped>\n",
       "    .dataframe tbody tr th:only-of-type {\n",
       "        vertical-align: middle;\n",
       "    }\n",
       "\n",
       "    .dataframe tbody tr th {\n",
       "        vertical-align: top;\n",
       "    }\n",
       "\n",
       "    .dataframe thead th {\n",
       "        text-align: right;\n",
       "    }\n",
       "</style>\n",
       "<table border=\"1\" class=\"dataframe\">\n",
       "  <thead>\n",
       "    <tr style=\"text-align: right;\">\n",
       "      <th></th>\n",
       "      <th>id</th>\n",
       "      <th>popularity</th>\n",
       "      <th>budget</th>\n",
       "      <th>revenue</th>\n",
       "      <th>runtime</th>\n",
       "      <th>vote_count</th>\n",
       "      <th>vote_average</th>\n",
       "      <th>release_year</th>\n",
       "      <th>budget_adj</th>\n",
       "      <th>revenue_adj</th>\n",
       "    </tr>\n",
       "  </thead>\n",
       "  <tbody>\n",
       "    <tr>\n",
       "      <th>count</th>\n",
       "      <td>10866.000000</td>\n",
       "      <td>10866.000000</td>\n",
       "      <td>1.086600e+04</td>\n",
       "      <td>1.086600e+04</td>\n",
       "      <td>10866.000000</td>\n",
       "      <td>10866.000000</td>\n",
       "      <td>10866.000000</td>\n",
       "      <td>10866.000000</td>\n",
       "      <td>1.086600e+04</td>\n",
       "      <td>1.086600e+04</td>\n",
       "    </tr>\n",
       "    <tr>\n",
       "      <th>mean</th>\n",
       "      <td>66064.177434</td>\n",
       "      <td>0.646441</td>\n",
       "      <td>1.462570e+07</td>\n",
       "      <td>3.982332e+07</td>\n",
       "      <td>102.070863</td>\n",
       "      <td>217.389748</td>\n",
       "      <td>5.974922</td>\n",
       "      <td>2001.322658</td>\n",
       "      <td>1.755104e+07</td>\n",
       "      <td>5.136436e+07</td>\n",
       "    </tr>\n",
       "    <tr>\n",
       "      <th>std</th>\n",
       "      <td>92130.136561</td>\n",
       "      <td>1.000185</td>\n",
       "      <td>3.091321e+07</td>\n",
       "      <td>1.170035e+08</td>\n",
       "      <td>31.381405</td>\n",
       "      <td>575.619058</td>\n",
       "      <td>0.935142</td>\n",
       "      <td>12.812941</td>\n",
       "      <td>3.430616e+07</td>\n",
       "      <td>1.446325e+08</td>\n",
       "    </tr>\n",
       "    <tr>\n",
       "      <th>min</th>\n",
       "      <td>5.000000</td>\n",
       "      <td>0.000065</td>\n",
       "      <td>0.000000e+00</td>\n",
       "      <td>0.000000e+00</td>\n",
       "      <td>0.000000</td>\n",
       "      <td>10.000000</td>\n",
       "      <td>1.500000</td>\n",
       "      <td>1960.000000</td>\n",
       "      <td>0.000000e+00</td>\n",
       "      <td>0.000000e+00</td>\n",
       "    </tr>\n",
       "    <tr>\n",
       "      <th>25%</th>\n",
       "      <td>10596.250000</td>\n",
       "      <td>0.207583</td>\n",
       "      <td>0.000000e+00</td>\n",
       "      <td>0.000000e+00</td>\n",
       "      <td>90.000000</td>\n",
       "      <td>17.000000</td>\n",
       "      <td>5.400000</td>\n",
       "      <td>1995.000000</td>\n",
       "      <td>0.000000e+00</td>\n",
       "      <td>0.000000e+00</td>\n",
       "    </tr>\n",
       "    <tr>\n",
       "      <th>50%</th>\n",
       "      <td>20669.000000</td>\n",
       "      <td>0.383856</td>\n",
       "      <td>0.000000e+00</td>\n",
       "      <td>0.000000e+00</td>\n",
       "      <td>99.000000</td>\n",
       "      <td>38.000000</td>\n",
       "      <td>6.000000</td>\n",
       "      <td>2006.000000</td>\n",
       "      <td>0.000000e+00</td>\n",
       "      <td>0.000000e+00</td>\n",
       "    </tr>\n",
       "    <tr>\n",
       "      <th>75%</th>\n",
       "      <td>75610.000000</td>\n",
       "      <td>0.713817</td>\n",
       "      <td>1.500000e+07</td>\n",
       "      <td>2.400000e+07</td>\n",
       "      <td>111.000000</td>\n",
       "      <td>145.750000</td>\n",
       "      <td>6.600000</td>\n",
       "      <td>2011.000000</td>\n",
       "      <td>2.085325e+07</td>\n",
       "      <td>3.369710e+07</td>\n",
       "    </tr>\n",
       "    <tr>\n",
       "      <th>max</th>\n",
       "      <td>417859.000000</td>\n",
       "      <td>32.985763</td>\n",
       "      <td>4.250000e+08</td>\n",
       "      <td>2.781506e+09</td>\n",
       "      <td>900.000000</td>\n",
       "      <td>9767.000000</td>\n",
       "      <td>9.200000</td>\n",
       "      <td>2015.000000</td>\n",
       "      <td>4.250000e+08</td>\n",
       "      <td>2.827124e+09</td>\n",
       "    </tr>\n",
       "  </tbody>\n",
       "</table>\n",
       "</div>"
      ],
      "text/plain": [
       "                  id    popularity        budget       revenue       runtime  \\\n",
       "count   10866.000000  10866.000000  1.086600e+04  1.086600e+04  10866.000000   \n",
       "mean    66064.177434      0.646441  1.462570e+07  3.982332e+07    102.070863   \n",
       "std     92130.136561      1.000185  3.091321e+07  1.170035e+08     31.381405   \n",
       "min         5.000000      0.000065  0.000000e+00  0.000000e+00      0.000000   \n",
       "25%     10596.250000      0.207583  0.000000e+00  0.000000e+00     90.000000   \n",
       "50%     20669.000000      0.383856  0.000000e+00  0.000000e+00     99.000000   \n",
       "75%     75610.000000      0.713817  1.500000e+07  2.400000e+07    111.000000   \n",
       "max    417859.000000     32.985763  4.250000e+08  2.781506e+09    900.000000   \n",
       "\n",
       "         vote_count  vote_average  release_year    budget_adj   revenue_adj  \n",
       "count  10866.000000  10866.000000  10866.000000  1.086600e+04  1.086600e+04  \n",
       "mean     217.389748      5.974922   2001.322658  1.755104e+07  5.136436e+07  \n",
       "std      575.619058      0.935142     12.812941  3.430616e+07  1.446325e+08  \n",
       "min       10.000000      1.500000   1960.000000  0.000000e+00  0.000000e+00  \n",
       "25%       17.000000      5.400000   1995.000000  0.000000e+00  0.000000e+00  \n",
       "50%       38.000000      6.000000   2006.000000  0.000000e+00  0.000000e+00  \n",
       "75%      145.750000      6.600000   2011.000000  2.085325e+07  3.369710e+07  \n",
       "max     9767.000000      9.200000   2015.000000  4.250000e+08  2.827124e+09  "
      ]
     },
     "execution_count": 10,
     "metadata": {},
     "output_type": "execute_result"
    }
   ],
   "source": [
    "df_md.describe()"
   ]
  },
  {
   "cell_type": "code",
   "execution_count": 11,
   "id": "5bca5036",
   "metadata": {},
   "outputs": [],
   "source": [
    "df_md.drop(['imdb_id','homepage','tagline','keywords','overview'], axis = 1, inplace = True)"
   ]
  },
  {
   "cell_type": "markdown",
   "id": "99a706f1",
   "metadata": {},
   "source": [
    "As we observed from the dataset with shape function,we have 21 columns and have to drop columns \n",
    "that won't be relevant to the questions and conclusions"
   ]
  },
  {
   "cell_type": "code",
   "execution_count": 66,
   "id": "185ab6c1",
   "metadata": {},
   "outputs": [
    {
     "data": {
      "text/html": [
       "<div>\n",
       "<style scoped>\n",
       "    .dataframe tbody tr th:only-of-type {\n",
       "        vertical-align: middle;\n",
       "    }\n",
       "\n",
       "    .dataframe tbody tr th {\n",
       "        vertical-align: top;\n",
       "    }\n",
       "\n",
       "    .dataframe thead th {\n",
       "        text-align: right;\n",
       "    }\n",
       "</style>\n",
       "<table border=\"1\" class=\"dataframe\">\n",
       "  <thead>\n",
       "    <tr style=\"text-align: right;\">\n",
       "      <th></th>\n",
       "      <th>id</th>\n",
       "      <th>popularity</th>\n",
       "      <th>budget</th>\n",
       "      <th>revenue</th>\n",
       "      <th>original_title</th>\n",
       "      <th>cast</th>\n",
       "      <th>director</th>\n",
       "      <th>runtime</th>\n",
       "      <th>genres</th>\n",
       "      <th>production_companies</th>\n",
       "      <th>release_date</th>\n",
       "      <th>vote_count</th>\n",
       "      <th>vote_average</th>\n",
       "      <th>release_year</th>\n",
       "      <th>budget_adj</th>\n",
       "      <th>revenue_adj</th>\n",
       "    </tr>\n",
       "  </thead>\n",
       "  <tbody>\n",
       "    <tr>\n",
       "      <th>0</th>\n",
       "      <td>135397</td>\n",
       "      <td>32.985763</td>\n",
       "      <td>150000000</td>\n",
       "      <td>1513528810</td>\n",
       "      <td>Jurassic World</td>\n",
       "      <td>Chris Pratt|Bryce Dallas Howard|Irrfan Khan|Vi...</td>\n",
       "      <td>Colin Trevorrow</td>\n",
       "      <td>124</td>\n",
       "      <td>Action|Adventure|Science Fiction|Thriller</td>\n",
       "      <td>Universal Studios|Amblin Entertainment|Legenda...</td>\n",
       "      <td>6/9/2015</td>\n",
       "      <td>5562</td>\n",
       "      <td>6.5</td>\n",
       "      <td>2015</td>\n",
       "      <td>1.379999e+08</td>\n",
       "      <td>1.392446e+09</td>\n",
       "    </tr>\n",
       "    <tr>\n",
       "      <th>1</th>\n",
       "      <td>76341</td>\n",
       "      <td>28.419936</td>\n",
       "      <td>150000000</td>\n",
       "      <td>378436354</td>\n",
       "      <td>Mad Max: Fury Road</td>\n",
       "      <td>Tom Hardy|Charlize Theron|Hugh Keays-Byrne|Nic...</td>\n",
       "      <td>George Miller</td>\n",
       "      <td>120</td>\n",
       "      <td>Action|Adventure|Science Fiction|Thriller</td>\n",
       "      <td>Village Roadshow Pictures|Kennedy Miller Produ...</td>\n",
       "      <td>5/13/2015</td>\n",
       "      <td>6185</td>\n",
       "      <td>7.1</td>\n",
       "      <td>2015</td>\n",
       "      <td>1.379999e+08</td>\n",
       "      <td>3.481613e+08</td>\n",
       "    </tr>\n",
       "    <tr>\n",
       "      <th>2</th>\n",
       "      <td>262500</td>\n",
       "      <td>13.112507</td>\n",
       "      <td>110000000</td>\n",
       "      <td>295238201</td>\n",
       "      <td>Insurgent</td>\n",
       "      <td>Shailene Woodley|Theo James|Kate Winslet|Ansel...</td>\n",
       "      <td>Robert Schwentke</td>\n",
       "      <td>119</td>\n",
       "      <td>Adventure|Science Fiction|Thriller</td>\n",
       "      <td>Summit Entertainment|Mandeville Films|Red Wago...</td>\n",
       "      <td>3/18/2015</td>\n",
       "      <td>2480</td>\n",
       "      <td>6.3</td>\n",
       "      <td>2015</td>\n",
       "      <td>1.012000e+08</td>\n",
       "      <td>2.716190e+08</td>\n",
       "    </tr>\n",
       "    <tr>\n",
       "      <th>3</th>\n",
       "      <td>140607</td>\n",
       "      <td>11.173104</td>\n",
       "      <td>200000000</td>\n",
       "      <td>2068178225</td>\n",
       "      <td>Star Wars: The Force Awakens</td>\n",
       "      <td>Harrison Ford|Mark Hamill|Carrie Fisher|Adam D...</td>\n",
       "      <td>J.J. Abrams</td>\n",
       "      <td>136</td>\n",
       "      <td>Action|Adventure|Science Fiction|Fantasy</td>\n",
       "      <td>Lucasfilm|Truenorth Productions|Bad Robot</td>\n",
       "      <td>12/15/2015</td>\n",
       "      <td>5292</td>\n",
       "      <td>7.5</td>\n",
       "      <td>2015</td>\n",
       "      <td>1.839999e+08</td>\n",
       "      <td>1.902723e+09</td>\n",
       "    </tr>\n",
       "    <tr>\n",
       "      <th>4</th>\n",
       "      <td>168259</td>\n",
       "      <td>9.335014</td>\n",
       "      <td>190000000</td>\n",
       "      <td>1506249360</td>\n",
       "      <td>Furious 7</td>\n",
       "      <td>Vin Diesel|Paul Walker|Jason Statham|Michelle ...</td>\n",
       "      <td>James Wan</td>\n",
       "      <td>137</td>\n",
       "      <td>Action|Crime|Thriller</td>\n",
       "      <td>Universal Pictures|Original Film|Media Rights ...</td>\n",
       "      <td>4/1/2015</td>\n",
       "      <td>2947</td>\n",
       "      <td>7.3</td>\n",
       "      <td>2015</td>\n",
       "      <td>1.747999e+08</td>\n",
       "      <td>1.385749e+09</td>\n",
       "    </tr>\n",
       "    <tr>\n",
       "      <th>...</th>\n",
       "      <td>...</td>\n",
       "      <td>...</td>\n",
       "      <td>...</td>\n",
       "      <td>...</td>\n",
       "      <td>...</td>\n",
       "      <td>...</td>\n",
       "      <td>...</td>\n",
       "      <td>...</td>\n",
       "      <td>...</td>\n",
       "      <td>...</td>\n",
       "      <td>...</td>\n",
       "      <td>...</td>\n",
       "      <td>...</td>\n",
       "      <td>...</td>\n",
       "      <td>...</td>\n",
       "      <td>...</td>\n",
       "    </tr>\n",
       "    <tr>\n",
       "      <th>10861</th>\n",
       "      <td>21</td>\n",
       "      <td>0.080598</td>\n",
       "      <td>0</td>\n",
       "      <td>0</td>\n",
       "      <td>The Endless Summer</td>\n",
       "      <td>Michael Hynson|Robert August|Lord 'Tally Ho' B...</td>\n",
       "      <td>Bruce Brown</td>\n",
       "      <td>95</td>\n",
       "      <td>Documentary</td>\n",
       "      <td>Bruce Brown Films</td>\n",
       "      <td>6/15/1966</td>\n",
       "      <td>11</td>\n",
       "      <td>7.4</td>\n",
       "      <td>1966</td>\n",
       "      <td>0.000000e+00</td>\n",
       "      <td>0.000000e+00</td>\n",
       "    </tr>\n",
       "    <tr>\n",
       "      <th>10862</th>\n",
       "      <td>20379</td>\n",
       "      <td>0.065543</td>\n",
       "      <td>0</td>\n",
       "      <td>0</td>\n",
       "      <td>Grand Prix</td>\n",
       "      <td>James Garner|Eva Marie Saint|Yves Montand|Tosh...</td>\n",
       "      <td>John Frankenheimer</td>\n",
       "      <td>176</td>\n",
       "      <td>Action|Adventure|Drama</td>\n",
       "      <td>Cherokee Productions|Joel Productions|Douglas ...</td>\n",
       "      <td>12/21/1966</td>\n",
       "      <td>20</td>\n",
       "      <td>5.7</td>\n",
       "      <td>1966</td>\n",
       "      <td>0.000000e+00</td>\n",
       "      <td>0.000000e+00</td>\n",
       "    </tr>\n",
       "    <tr>\n",
       "      <th>10863</th>\n",
       "      <td>39768</td>\n",
       "      <td>0.065141</td>\n",
       "      <td>0</td>\n",
       "      <td>0</td>\n",
       "      <td>Beregis Avtomobilya</td>\n",
       "      <td>Innokentiy Smoktunovskiy|Oleg Efremov|Georgi Z...</td>\n",
       "      <td>Eldar Ryazanov</td>\n",
       "      <td>94</td>\n",
       "      <td>Mystery|Comedy</td>\n",
       "      <td>Mosfilm</td>\n",
       "      <td>1/1/1966</td>\n",
       "      <td>11</td>\n",
       "      <td>6.5</td>\n",
       "      <td>1966</td>\n",
       "      <td>0.000000e+00</td>\n",
       "      <td>0.000000e+00</td>\n",
       "    </tr>\n",
       "    <tr>\n",
       "      <th>10864</th>\n",
       "      <td>21449</td>\n",
       "      <td>0.064317</td>\n",
       "      <td>0</td>\n",
       "      <td>0</td>\n",
       "      <td>What's Up, Tiger Lily?</td>\n",
       "      <td>Tatsuya Mihashi|Akiko Wakabayashi|Mie Hama|Joh...</td>\n",
       "      <td>Woody Allen</td>\n",
       "      <td>80</td>\n",
       "      <td>Action|Comedy</td>\n",
       "      <td>Benedict Pictures Corp.</td>\n",
       "      <td>11/2/1966</td>\n",
       "      <td>22</td>\n",
       "      <td>5.4</td>\n",
       "      <td>1966</td>\n",
       "      <td>0.000000e+00</td>\n",
       "      <td>0.000000e+00</td>\n",
       "    </tr>\n",
       "    <tr>\n",
       "      <th>10865</th>\n",
       "      <td>22293</td>\n",
       "      <td>0.035919</td>\n",
       "      <td>19000</td>\n",
       "      <td>0</td>\n",
       "      <td>Manos: The Hands of Fate</td>\n",
       "      <td>Harold P. Warren|Tom Neyman|John Reynolds|Dian...</td>\n",
       "      <td>Harold P. Warren</td>\n",
       "      <td>74</td>\n",
       "      <td>Horror</td>\n",
       "      <td>Norm-Iris</td>\n",
       "      <td>11/15/1966</td>\n",
       "      <td>15</td>\n",
       "      <td>1.5</td>\n",
       "      <td>1966</td>\n",
       "      <td>1.276423e+05</td>\n",
       "      <td>0.000000e+00</td>\n",
       "    </tr>\n",
       "  </tbody>\n",
       "</table>\n",
       "<p>10866 rows × 16 columns</p>\n",
       "</div>"
      ],
      "text/plain": [
       "           id  popularity     budget     revenue  \\\n",
       "0      135397   32.985763  150000000  1513528810   \n",
       "1       76341   28.419936  150000000   378436354   \n",
       "2      262500   13.112507  110000000   295238201   \n",
       "3      140607   11.173104  200000000  2068178225   \n",
       "4      168259    9.335014  190000000  1506249360   \n",
       "...       ...         ...        ...         ...   \n",
       "10861      21    0.080598          0           0   \n",
       "10862   20379    0.065543          0           0   \n",
       "10863   39768    0.065141          0           0   \n",
       "10864   21449    0.064317          0           0   \n",
       "10865   22293    0.035919      19000           0   \n",
       "\n",
       "                     original_title  \\\n",
       "0                    Jurassic World   \n",
       "1                Mad Max: Fury Road   \n",
       "2                         Insurgent   \n",
       "3      Star Wars: The Force Awakens   \n",
       "4                         Furious 7   \n",
       "...                             ...   \n",
       "10861            The Endless Summer   \n",
       "10862                    Grand Prix   \n",
       "10863           Beregis Avtomobilya   \n",
       "10864        What's Up, Tiger Lily?   \n",
       "10865      Manos: The Hands of Fate   \n",
       "\n",
       "                                                    cast            director  \\\n",
       "0      Chris Pratt|Bryce Dallas Howard|Irrfan Khan|Vi...     Colin Trevorrow   \n",
       "1      Tom Hardy|Charlize Theron|Hugh Keays-Byrne|Nic...       George Miller   \n",
       "2      Shailene Woodley|Theo James|Kate Winslet|Ansel...    Robert Schwentke   \n",
       "3      Harrison Ford|Mark Hamill|Carrie Fisher|Adam D...         J.J. Abrams   \n",
       "4      Vin Diesel|Paul Walker|Jason Statham|Michelle ...           James Wan   \n",
       "...                                                  ...                 ...   \n",
       "10861  Michael Hynson|Robert August|Lord 'Tally Ho' B...         Bruce Brown   \n",
       "10862  James Garner|Eva Marie Saint|Yves Montand|Tosh...  John Frankenheimer   \n",
       "10863  Innokentiy Smoktunovskiy|Oleg Efremov|Georgi Z...      Eldar Ryazanov   \n",
       "10864  Tatsuya Mihashi|Akiko Wakabayashi|Mie Hama|Joh...         Woody Allen   \n",
       "10865  Harold P. Warren|Tom Neyman|John Reynolds|Dian...    Harold P. Warren   \n",
       "\n",
       "       runtime                                     genres  \\\n",
       "0          124  Action|Adventure|Science Fiction|Thriller   \n",
       "1          120  Action|Adventure|Science Fiction|Thriller   \n",
       "2          119         Adventure|Science Fiction|Thriller   \n",
       "3          136   Action|Adventure|Science Fiction|Fantasy   \n",
       "4          137                      Action|Crime|Thriller   \n",
       "...        ...                                        ...   \n",
       "10861       95                                Documentary   \n",
       "10862      176                     Action|Adventure|Drama   \n",
       "10863       94                             Mystery|Comedy   \n",
       "10864       80                              Action|Comedy   \n",
       "10865       74                                     Horror   \n",
       "\n",
       "                                    production_companies release_date  \\\n",
       "0      Universal Studios|Amblin Entertainment|Legenda...     6/9/2015   \n",
       "1      Village Roadshow Pictures|Kennedy Miller Produ...    5/13/2015   \n",
       "2      Summit Entertainment|Mandeville Films|Red Wago...    3/18/2015   \n",
       "3              Lucasfilm|Truenorth Productions|Bad Robot   12/15/2015   \n",
       "4      Universal Pictures|Original Film|Media Rights ...     4/1/2015   \n",
       "...                                                  ...          ...   \n",
       "10861                                  Bruce Brown Films    6/15/1966   \n",
       "10862  Cherokee Productions|Joel Productions|Douglas ...   12/21/1966   \n",
       "10863                                            Mosfilm     1/1/1966   \n",
       "10864                            Benedict Pictures Corp.    11/2/1966   \n",
       "10865                                          Norm-Iris   11/15/1966   \n",
       "\n",
       "       vote_count  vote_average  release_year    budget_adj   revenue_adj  \n",
       "0            5562           6.5          2015  1.379999e+08  1.392446e+09  \n",
       "1            6185           7.1          2015  1.379999e+08  3.481613e+08  \n",
       "2            2480           6.3          2015  1.012000e+08  2.716190e+08  \n",
       "3            5292           7.5          2015  1.839999e+08  1.902723e+09  \n",
       "4            2947           7.3          2015  1.747999e+08  1.385749e+09  \n",
       "...           ...           ...           ...           ...           ...  \n",
       "10861          11           7.4          1966  0.000000e+00  0.000000e+00  \n",
       "10862          20           5.7          1966  0.000000e+00  0.000000e+00  \n",
       "10863          11           6.5          1966  0.000000e+00  0.000000e+00  \n",
       "10864          22           5.4          1966  0.000000e+00  0.000000e+00  \n",
       "10865          15           1.5          1966  1.276423e+05  0.000000e+00  \n",
       "\n",
       "[10866 rows x 16 columns]"
      ]
     },
     "execution_count": 66,
     "metadata": {},
     "output_type": "execute_result"
    }
   ],
   "source": [
    "#confirm changes i've made\n",
    "df_md"
   ]
  },
  {
   "cell_type": "code",
   "execution_count": 12,
   "id": "c0a3df53",
   "metadata": {},
   "outputs": [
    {
     "data": {
      "text/plain": [
       "id                         0\n",
       "popularity                 0\n",
       "budget                     0\n",
       "revenue                    0\n",
       "original_title             0\n",
       "cast                      76\n",
       "director                  44\n",
       "runtime                    0\n",
       "genres                    23\n",
       "production_companies    1030\n",
       "release_date               0\n",
       "vote_count                 0\n",
       "vote_average               0\n",
       "release_year               0\n",
       "budget_adj                 0\n",
       "revenue_adj                0\n",
       "dtype: int64"
      ]
     },
     "execution_count": 12,
     "metadata": {},
     "output_type": "execute_result"
    }
   ],
   "source": [
    "df_md.isnull().sum()"
   ]
  },
  {
   "cell_type": "markdown",
   "id": "14dce5d7",
   "metadata": {},
   "source": [
    "after dropping unrelevant/erraneous columns ;next is cleaning method of Missing values in some of our columns.columns\n",
    "such as genres,cast, director has missing values and we need to treat and clean them.\n",
    "i also noticed in Budget,  we have some rows that are with 0 budget, this might imply that the movie is a no budget movie\n",
    "safe to say , no revenue as well"
   ]
  },
  {
   "cell_type": "code",
   "execution_count": 68,
   "id": "60b2b4b2",
   "metadata": {},
   "outputs": [],
   "source": [
    "df_md.fillna('Anonymous', inplace = True)"
   ]
  },
  {
   "cell_type": "markdown",
   "id": "bd1d2219",
   "metadata": {},
   "source": [
    "Take note that all missing values occur in all the text(string) columms\n",
    "implying we might likely have to fillna with a string, in this case Anonymous so as not remove any row with vital info."
   ]
  },
  {
   "cell_type": "code",
   "execution_count": 69,
   "id": "4b54fb7e",
   "metadata": {},
   "outputs": [],
   "source": [
    "#change the d.type of release_date and release_year to datetime\n",
    "df_md['release_date'] = pd.to_datetime(df_md['release_date'])\n",
    "df_md['release_year'] = pd.to_datetime(df_md['release_year'])\n"
   ]
  },
  {
   "cell_type": "markdown",
   "id": "26e88d16",
   "metadata": {},
   "source": [
    "Incorrect datatype was also plaguing our dataset, columns release_year and release_date were all in string (object) format\n",
    "and this needed to be converted(cleaned) to a datetime format to help in our Data Exploration or conclusion"
   ]
  },
  {
   "cell_type": "code",
   "execution_count": 70,
   "id": "fcd261d1",
   "metadata": {},
   "outputs": [
    {
     "name": "stdout",
     "output_type": "stream",
     "text": [
      "<class 'pandas.core.frame.DataFrame'>\n",
      "Int64Index: 10865 entries, 0 to 10865\n",
      "Data columns (total 16 columns):\n",
      " #   Column                Non-Null Count  Dtype         \n",
      "---  ------                --------------  -----         \n",
      " 0   id                    10865 non-null  int64         \n",
      " 1   popularity            10865 non-null  float64       \n",
      " 2   budget                10865 non-null  int64         \n",
      " 3   revenue               10865 non-null  int64         \n",
      " 4   original_title        10865 non-null  object        \n",
      " 5   cast                  10865 non-null  object        \n",
      " 6   director              10865 non-null  object        \n",
      " 7   runtime               10865 non-null  int64         \n",
      " 8   genres                10865 non-null  object        \n",
      " 9   production_companies  10865 non-null  object        \n",
      " 10  release_date          10865 non-null  datetime64[ns]\n",
      " 11  vote_count            10865 non-null  int64         \n",
      " 12  vote_average          10865 non-null  float64       \n",
      " 13  release_year          10865 non-null  datetime64[ns]\n",
      " 14  budget_adj            10865 non-null  float64       \n",
      " 15  revenue_adj           10865 non-null  float64       \n",
      "dtypes: datetime64[ns](2), float64(4), int64(5), object(5)\n",
      "memory usage: 1.4+ MB\n"
     ]
    }
   ],
   "source": [
    "#DEdupe Data\n",
    "#need to know if theres any duplicate row\n",
    "df_md.duplicated().sum()\n",
    "\n",
    "#drop duplicate\n",
    "df_md.drop_duplicates(inplace = True)\n",
    "\n",
    "#confirm changes you've made\n",
    "df_md.info()"
   ]
  },
  {
   "cell_type": "markdown",
   "id": "8f04e7de",
   "metadata": {},
   "source": [
    "To check if there are rows that are identical completely, if True, one or two of the rows had to be dropped \n",
    "making it easy for us to draw insight from the dataset.In a nutshell, remove duplicated rows ."
   ]
  },
  {
   "cell_type": "markdown",
   "id": "c400a154",
   "metadata": {},
   "source": [
    "EXPLORING DATA WITH VISUALS\n",
    "\n",
    "Here, we find patterns in our dataset,build intuition about our work\n",
    "and visualise relataionship in our data"
   ]
  },
  {
   "cell_type": "code",
   "execution_count": 14,
   "id": "c5187453",
   "metadata": {},
   "outputs": [
    {
     "data": {
      "image/png": "[encoded data removed]",
      "text/plain": [
       "<Figure size 432x288 with 1 Axes>"
      ]
     },
     "metadata": {
      "needs_background": "light"
     },
     "output_type": "display_data"
    }
   ],
   "source": [
    "df_md.plot(x='popularity',y='vote_count',kind='scatter');\n",
    "plt.title('A scatter plot of Vote_count by Popularity');\n"
   ]
  },
  {
   "cell_type": "markdown",
   "id": "96697b11",
   "metadata": {},
   "source": [
    "exploring with visuals to see if there is a positive correlation with popularity column and vote_count column,\n",
    "in addition this is a scatter plot that helped show relationship between 2 variables , and from the viz we \n",
    "can depict that there was somewhat a positive correlation between popularity and vote_count"
   ]
  },
  {
   "cell_type": "code",
   "execution_count": 15,
   "id": "053f5f98",
   "metadata": {},
   "outputs": [
    {
     "data": {
      "image/png": "[encoded data removed]",
      "text/plain": [
       "<Figure size 432x288 with 1 Axes>"
      ]
     },
     "metadata": {
      "needs_background": "light"
     },
     "output_type": "display_data"
    }
   ],
   "source": [
    "df_md.plot(x='budget',y='revenue',kind='scatter');\n",
    "plt.title('A scatter plot of Revenue by Budget');"
   ]
  },
  {
   "cell_type": "markdown",
   "id": "8ac6b779",
   "metadata": {},
   "source": [
    "the viz, Revenue by Budget tried to also ask if both variables are correlated.this help explain why some rows that \n",
    "were with zero budget had zero Revenue."
   ]
  },
  {
   "cell_type": "code",
   "execution_count": 25,
   "id": "b9ac8c3b",
   "metadata": {},
   "outputs": [
    {
     "data": {
      "image/png": "[encoded data removed]",
      "text/plain": [
       "<Figure size 432x288 with 1 Axes>"
      ]
     },
     "metadata": {
      "needs_background": "light"
     },
     "output_type": "display_data"
    }
   ],
   "source": [
    "#How has the distribution of budget from 2010 to the current year changed due to inflation\n",
    "df_md.budget_adj.hist();\n",
    "df_md.budget.hist();\n",
    "plt.title('Distribution of Budget from 2010 to 2015')\n",
    "plt.xlabel('Budget in 2010 - 2015');\n",
    "plt.ylabel('Frequency');\n",
    "plt.show()"
   ]
  },
  {
   "cell_type": "code",
   "execution_count": null,
   "id": "a85550c4",
   "metadata": {},
   "outputs": [],
   "source": [
    "The distribution is skewed to the right during the years considered ."
   ]
  },
  {
   "cell_type": "code",
   "execution_count": 24,
   "id": "bc14eb75",
   "metadata": {},
   "outputs": [
    {
     "data": {
      "image/png": "[encoded data removed]",
      "text/plain": [
       "<Figure size 432x288 with 1 Axes>"
      ]
     },
     "metadata": {
      "needs_background": "light"
     },
     "output_type": "display_data"
    }
   ],
   "source": [
    "#How has the distribution of revenue from 2010 to the current year changed due to inflation as well\n",
    "df_md.revenue_adj.hist();\n",
    "df_md.revenue.hist();\n",
    "plt.title('Distribution of Revenue from 2010 to 2015')\n",
    "plt.xlabel('Revenue in 2010 - 2015');\n",
    "plt.ylabel('Frequency');\n",
    "plt.show()"
   ]
  },
  {
   "cell_type": "markdown",
   "id": "fc5cf168",
   "metadata": {},
   "source": [
    "Here also,throughout the years considered ,Revenue takes the same path as Budget,the\n",
    "distribution positively skewed to the right."
   ]
  },
  {
   "cell_type": "markdown",
   "id": "713b910d",
   "metadata": {},
   "source": [
    "DRAWING CONCLUSIONS\n",
    "\n",
    "Lets address our initial questions and predict the scenario that might happen!!"
   ]
  },
  {
   "cell_type": "code",
   "execution_count": 75,
   "id": "49d58e14",
   "metadata": {},
   "outputs": [
    {
     "data": {
      "text/plain": [
       "id                      10865\n",
       "popularity              10814\n",
       "budget                    557\n",
       "revenue                  4702\n",
       "original_title          10571\n",
       "cast                    10720\n",
       "director                 5068\n",
       "runtime                   247\n",
       "genres                   2040\n",
       "production_companies     7446\n",
       "release_date             5909\n",
       "vote_count               1289\n",
       "vote_average               72\n",
       "release_year               56\n",
       "budget_adj               2614\n",
       "revenue_adj              4840\n",
       "dtype: int64"
      ]
     },
     "execution_count": 75,
     "metadata": {},
     "output_type": "execute_result"
    }
   ],
   "source": [
    "df_md.nunique()"
   ]
  },
  {
   "cell_type": "markdown",
   "id": "5274ebe1",
   "metadata": {},
   "source": [
    "Predicting movies that are most popular/highly rated!!!"
   ]
  },
  {
   "cell_type": "code",
   "execution_count": 76,
   "id": "354ed306",
   "metadata": {},
   "outputs": [],
   "source": [
    "df_hr = df_md.nlargest(5, columns= ['popularity'])"
   ]
  },
  {
   "cell_type": "markdown",
   "id": "7fecc6fe",
   "metadata": {},
   "source": [
    "using nlargest function to get the highly rated/most popular movie by popularity\n",
    "according to tmdb,they calculate their popular movies through votes submitted by their users(vote_average)"
   ]
  },
  {
   "cell_type": "code",
   "execution_count": 77,
   "id": "852e3948",
   "metadata": {},
   "outputs": [
    {
     "data": {
      "text/html": [
       "<div>\n",
       "<style scoped>\n",
       "    .dataframe tbody tr th:only-of-type {\n",
       "        vertical-align: middle;\n",
       "    }\n",
       "\n",
       "    .dataframe tbody tr th {\n",
       "        vertical-align: top;\n",
       "    }\n",
       "\n",
       "    .dataframe thead th {\n",
       "        text-align: right;\n",
       "    }\n",
       "</style>\n",
       "<table border=\"1\" class=\"dataframe\">\n",
       "  <thead>\n",
       "    <tr style=\"text-align: right;\">\n",
       "      <th></th>\n",
       "      <th>id</th>\n",
       "      <th>popularity</th>\n",
       "      <th>budget</th>\n",
       "      <th>revenue</th>\n",
       "      <th>original_title</th>\n",
       "      <th>cast</th>\n",
       "      <th>director</th>\n",
       "      <th>runtime</th>\n",
       "      <th>genres</th>\n",
       "      <th>production_companies</th>\n",
       "      <th>release_date</th>\n",
       "      <th>vote_count</th>\n",
       "      <th>vote_average</th>\n",
       "      <th>release_year</th>\n",
       "      <th>budget_adj</th>\n",
       "      <th>revenue_adj</th>\n",
       "    </tr>\n",
       "  </thead>\n",
       "  <tbody>\n",
       "    <tr>\n",
       "      <th>0</th>\n",
       "      <td>135397</td>\n",
       "      <td>32.985763</td>\n",
       "      <td>150000000</td>\n",
       "      <td>1513528810</td>\n",
       "      <td>Jurassic World</td>\n",
       "      <td>Chris Pratt|Bryce Dallas Howard|Irrfan Khan|Vi...</td>\n",
       "      <td>Colin Trevorrow</td>\n",
       "      <td>124</td>\n",
       "      <td>Action|Adventure|Science Fiction|Thriller</td>\n",
       "      <td>Universal Studios|Amblin Entertainment|Legenda...</td>\n",
       "      <td>2015-06-09</td>\n",
       "      <td>5562</td>\n",
       "      <td>6.5</td>\n",
       "      <td>1970-01-01 00:00:00.000002015</td>\n",
       "      <td>137999939.3</td>\n",
       "      <td>1.392446e+09</td>\n",
       "    </tr>\n",
       "    <tr>\n",
       "      <th>1</th>\n",
       "      <td>76341</td>\n",
       "      <td>28.419936</td>\n",
       "      <td>150000000</td>\n",
       "      <td>378436354</td>\n",
       "      <td>Mad Max: Fury Road</td>\n",
       "      <td>Tom Hardy|Charlize Theron|Hugh Keays-Byrne|Nic...</td>\n",
       "      <td>George Miller</td>\n",
       "      <td>120</td>\n",
       "      <td>Action|Adventure|Science Fiction|Thriller</td>\n",
       "      <td>Village Roadshow Pictures|Kennedy Miller Produ...</td>\n",
       "      <td>2015-05-13</td>\n",
       "      <td>6185</td>\n",
       "      <td>7.1</td>\n",
       "      <td>1970-01-01 00:00:00.000002015</td>\n",
       "      <td>137999939.3</td>\n",
       "      <td>3.481613e+08</td>\n",
       "    </tr>\n",
       "    <tr>\n",
       "      <th>629</th>\n",
       "      <td>157336</td>\n",
       "      <td>24.949134</td>\n",
       "      <td>165000000</td>\n",
       "      <td>621752480</td>\n",
       "      <td>Interstellar</td>\n",
       "      <td>Matthew McConaughey|Jessica Chastain|Anne Hath...</td>\n",
       "      <td>Christopher Nolan</td>\n",
       "      <td>169</td>\n",
       "      <td>Adventure|Drama|Science Fiction</td>\n",
       "      <td>Paramount Pictures|Legendary Pictures|Warner B...</td>\n",
       "      <td>2014-11-05</td>\n",
       "      <td>6498</td>\n",
       "      <td>8.0</td>\n",
       "      <td>1970-01-01 00:00:00.000002014</td>\n",
       "      <td>151980023.4</td>\n",
       "      <td>5.726906e+08</td>\n",
       "    </tr>\n",
       "    <tr>\n",
       "      <th>630</th>\n",
       "      <td>118340</td>\n",
       "      <td>14.311205</td>\n",
       "      <td>170000000</td>\n",
       "      <td>773312399</td>\n",
       "      <td>Guardians of the Galaxy</td>\n",
       "      <td>Chris Pratt|Zoe Saldana|Dave Bautista|Vin Dies...</td>\n",
       "      <td>James Gunn</td>\n",
       "      <td>121</td>\n",
       "      <td>Action|Science Fiction|Adventure</td>\n",
       "      <td>Marvel Studios|Moving Picture Company (MPC)|Bu...</td>\n",
       "      <td>2014-07-30</td>\n",
       "      <td>5612</td>\n",
       "      <td>7.9</td>\n",
       "      <td>1970-01-01 00:00:00.000002014</td>\n",
       "      <td>156585478.6</td>\n",
       "      <td>7.122911e+08</td>\n",
       "    </tr>\n",
       "    <tr>\n",
       "      <th>2</th>\n",
       "      <td>262500</td>\n",
       "      <td>13.112507</td>\n",
       "      <td>110000000</td>\n",
       "      <td>295238201</td>\n",
       "      <td>Insurgent</td>\n",
       "      <td>Shailene Woodley|Theo James|Kate Winslet|Ansel...</td>\n",
       "      <td>Robert Schwentke</td>\n",
       "      <td>119</td>\n",
       "      <td>Adventure|Science Fiction|Thriller</td>\n",
       "      <td>Summit Entertainment|Mandeville Films|Red Wago...</td>\n",
       "      <td>2015-03-18</td>\n",
       "      <td>2480</td>\n",
       "      <td>6.3</td>\n",
       "      <td>1970-01-01 00:00:00.000002015</td>\n",
       "      <td>101199955.5</td>\n",
       "      <td>2.716190e+08</td>\n",
       "    </tr>\n",
       "  </tbody>\n",
       "</table>\n",
       "</div>"
      ],
      "text/plain": [
       "         id  popularity     budget     revenue           original_title  \\\n",
       "0    135397   32.985763  150000000  1513528810           Jurassic World   \n",
       "1     76341   28.419936  150000000   378436354       Mad Max: Fury Road   \n",
       "629  157336   24.949134  165000000   621752480             Interstellar   \n",
       "630  118340   14.311205  170000000   773312399  Guardians of the Galaxy   \n",
       "2    262500   13.112507  110000000   295238201                Insurgent   \n",
       "\n",
       "                                                  cast           director  \\\n",
       "0    Chris Pratt|Bryce Dallas Howard|Irrfan Khan|Vi...    Colin Trevorrow   \n",
       "1    Tom Hardy|Charlize Theron|Hugh Keays-Byrne|Nic...      George Miller   \n",
       "629  Matthew McConaughey|Jessica Chastain|Anne Hath...  Christopher Nolan   \n",
       "630  Chris Pratt|Zoe Saldana|Dave Bautista|Vin Dies...         James Gunn   \n",
       "2    Shailene Woodley|Theo James|Kate Winslet|Ansel...   Robert Schwentke   \n",
       "\n",
       "     runtime                                     genres  \\\n",
       "0        124  Action|Adventure|Science Fiction|Thriller   \n",
       "1        120  Action|Adventure|Science Fiction|Thriller   \n",
       "629      169            Adventure|Drama|Science Fiction   \n",
       "630      121           Action|Science Fiction|Adventure   \n",
       "2        119         Adventure|Science Fiction|Thriller   \n",
       "\n",
       "                                  production_companies release_date  \\\n",
       "0    Universal Studios|Amblin Entertainment|Legenda...   2015-06-09   \n",
       "1    Village Roadshow Pictures|Kennedy Miller Produ...   2015-05-13   \n",
       "629  Paramount Pictures|Legendary Pictures|Warner B...   2014-11-05   \n",
       "630  Marvel Studios|Moving Picture Company (MPC)|Bu...   2014-07-30   \n",
       "2    Summit Entertainment|Mandeville Films|Red Wago...   2015-03-18   \n",
       "\n",
       "     vote_count  vote_average                  release_year   budget_adj  \\\n",
       "0          5562           6.5 1970-01-01 00:00:00.000002015  137999939.3   \n",
       "1          6185           7.1 1970-01-01 00:00:00.000002015  137999939.3   \n",
       "629        6498           8.0 1970-01-01 00:00:00.000002014  151980023.4   \n",
       "630        5612           7.9 1970-01-01 00:00:00.000002014  156585478.6   \n",
       "2          2480           6.3 1970-01-01 00:00:00.000002015  101199955.5   \n",
       "\n",
       "      revenue_adj  \n",
       "0    1.392446e+09  \n",
       "1    3.481613e+08  \n",
       "629  5.726906e+08  \n",
       "630  7.122911e+08  \n",
       "2    2.716190e+08  "
      ]
     },
     "execution_count": 77,
     "metadata": {},
     "output_type": "execute_result"
    }
   ],
   "source": [
    "df_hr"
   ]
  },
  {
   "cell_type": "code",
   "execution_count": 17,
   "id": "b67695f3",
   "metadata": {},
   "outputs": [
    {
     "data": {
      "text/html": [
       "<div>\n",
       "<style scoped>\n",
       "    .dataframe tbody tr th:only-of-type {\n",
       "        vertical-align: middle;\n",
       "    }\n",
       "\n",
       "    .dataframe tbody tr th {\n",
       "        vertical-align: top;\n",
       "    }\n",
       "\n",
       "    .dataframe thead th {\n",
       "        text-align: right;\n",
       "    }\n",
       "</style>\n",
       "<table border=\"1\" class=\"dataframe\">\n",
       "  <thead>\n",
       "    <tr style=\"text-align: right;\">\n",
       "      <th></th>\n",
       "      <th>popularity</th>\n",
       "      <th>original_title</th>\n",
       "    </tr>\n",
       "  </thead>\n",
       "  <tbody>\n",
       "    <tr>\n",
       "      <th>0</th>\n",
       "      <td>32.985763</td>\n",
       "      <td>Jurassic World</td>\n",
       "    </tr>\n",
       "    <tr>\n",
       "      <th>1</th>\n",
       "      <td>28.419936</td>\n",
       "      <td>Mad Max: Fury Road</td>\n",
       "    </tr>\n",
       "    <tr>\n",
       "      <th>629</th>\n",
       "      <td>24.949134</td>\n",
       "      <td>Interstellar</td>\n",
       "    </tr>\n",
       "    <tr>\n",
       "      <th>630</th>\n",
       "      <td>14.311205</td>\n",
       "      <td>Guardians of the Galaxy</td>\n",
       "    </tr>\n",
       "    <tr>\n",
       "      <th>2</th>\n",
       "      <td>13.112507</td>\n",
       "      <td>Insurgent</td>\n",
       "    </tr>\n",
       "  </tbody>\n",
       "</table>\n",
       "</div>"
      ],
      "text/plain": [
       "     popularity           original_title\n",
       "0     32.985763           Jurassic World\n",
       "1     28.419936       Mad Max: Fury Road\n",
       "629   24.949134             Interstellar\n",
       "630   14.311205  Guardians of the Galaxy\n",
       "2     13.112507                Insurgent"
      ]
     },
     "execution_count": 17,
     "metadata": {},
     "output_type": "execute_result"
    }
   ],
   "source": [
    "#selecting our columns to plot\n",
    "\n",
    "df_hr.iloc[: , np.r_[1,4]]"
   ]
  },
  {
   "cell_type": "code",
   "execution_count": 18,
   "id": "25c86c1e",
   "metadata": {},
   "outputs": [
    {
     "data": {
      "image/png": "[encoded data removed]",
      "text/plain": [
       "<Figure size 432x288 with 1 Axes>"
      ]
     },
     "metadata": {
      "needs_background": "light"
     },
     "output_type": "display_data"
    }
   ],
   "source": [
    "plt.bar([1, 2, 3],[32.985763, 28.419936, 24.949134])\n",
    "plt.xticks([1, 2, 3],['Jurassic World','Mad Max:Fury Road','Interstellar']);\n",
    "plt.title('Highly Rated/Most Popular Movies');\n",
    "plt.ylabel('popularity')\n",
    "plt.xlabel('Movie Title')\n",
    "plt.show()"
   ]
  },
  {
   "cell_type": "markdown",
   "id": "48e61b4d",
   "metadata": {},
   "source": [
    "Due to genre mixing(bending)being common nowadays, which genres of movies have film makers worked on more for years?,\n",
    "knowing fully well more of making these genres might increase the users fondness to these genres"
   ]
  },
  {
   "cell_type": "code",
   "execution_count": 19,
   "id": "9cc78e34",
   "metadata": {},
   "outputs": [
    {
     "data": {
      "text/html": [
       "<div>\n",
       "<style scoped>\n",
       "    .dataframe tbody tr th:only-of-type {\n",
       "        vertical-align: middle;\n",
       "    }\n",
       "\n",
       "    .dataframe tbody tr th {\n",
       "        vertical-align: top;\n",
       "    }\n",
       "\n",
       "    .dataframe thead th {\n",
       "        text-align: right;\n",
       "    }\n",
       "</style>\n",
       "<table border=\"1\" class=\"dataframe\">\n",
       "  <thead>\n",
       "    <tr style=\"text-align: right;\">\n",
       "      <th></th>\n",
       "      <th>genres</th>\n",
       "    </tr>\n",
       "  </thead>\n",
       "  <tbody>\n",
       "    <tr>\n",
       "      <th>Comedy</th>\n",
       "      <td>712</td>\n",
       "    </tr>\n",
       "    <tr>\n",
       "      <th>Drama</th>\n",
       "      <td>712</td>\n",
       "    </tr>\n",
       "    <tr>\n",
       "      <th>Documentary</th>\n",
       "      <td>312</td>\n",
       "    </tr>\n",
       "    <tr>\n",
       "      <th>Drama|Romance</th>\n",
       "      <td>289</td>\n",
       "    </tr>\n",
       "    <tr>\n",
       "      <th>Comedy|Drama</th>\n",
       "      <td>280</td>\n",
       "    </tr>\n",
       "    <tr>\n",
       "      <th>...</th>\n",
       "      <td>...</td>\n",
       "    </tr>\n",
       "    <tr>\n",
       "      <th>Adventure|Animation|Romance</th>\n",
       "      <td>1</td>\n",
       "    </tr>\n",
       "    <tr>\n",
       "      <th>Family|Animation|Drama</th>\n",
       "      <td>1</td>\n",
       "    </tr>\n",
       "    <tr>\n",
       "      <th>Action|Adventure|Animation|Comedy|Family</th>\n",
       "      <td>1</td>\n",
       "    </tr>\n",
       "    <tr>\n",
       "      <th>Action|Adventure|Animation|Fantasy</th>\n",
       "      <td>1</td>\n",
       "    </tr>\n",
       "    <tr>\n",
       "      <th>Mystery|Science Fiction|Thriller|Drama</th>\n",
       "      <td>1</td>\n",
       "    </tr>\n",
       "  </tbody>\n",
       "</table>\n",
       "<p>2040 rows × 1 columns</p>\n",
       "</div>"
      ],
      "text/plain": [
       "                                          genres\n",
       "Comedy                                       712\n",
       "Drama                                        712\n",
       "Documentary                                  312\n",
       "Drama|Romance                                289\n",
       "Comedy|Drama                                 280\n",
       "...                                          ...\n",
       "Adventure|Animation|Romance                    1\n",
       "Family|Animation|Drama                         1\n",
       "Action|Adventure|Animation|Comedy|Family       1\n",
       "Action|Adventure|Animation|Fantasy             1\n",
       "Mystery|Science Fiction|Thriller|Drama         1\n",
       "\n",
       "[2040 rows x 1 columns]"
      ]
     },
     "execution_count": 19,
     "metadata": {},
     "output_type": "execute_result"
    }
   ],
   "source": [
    "df_gc = df_md.genres.value_counts()\n",
    "df_g = df_gc.to_frame()\n",
    "df_g"
   ]
  },
  {
   "cell_type": "markdown",
   "id": "b1b661e2",
   "metadata": {},
   "source": [
    "initially i wanted to base my analysis for this Research question from 2010 to 2015 to help streamline my prediction, \n",
    "but value_counts function helped to aggregate the unique Genres of movies from the year 1966 to 2015 as shown above."
   ]
  },
  {
   "cell_type": "code",
   "execution_count": 20,
   "id": "8b9fd6d4",
   "metadata": {},
   "outputs": [],
   "source": [
    "df = df_g.nlargest(10,columns = ['genres'])"
   ]
  },
  {
   "cell_type": "code",
   "execution_count": 22,
   "id": "1ec3ac74",
   "metadata": {},
   "outputs": [
    {
     "data": {
      "image/png": "[encoded data removed]",
      "text/plain": [
       "<Figure size 432x288 with 1 Axes>"
      ]
     },
     "metadata": {
      "needs_background": "light"
     },
     "output_type": "display_data"
    }
   ],
   "source": [
    "df.plot(kind = 'bar')\n",
    "plt.title('Top Most Genres worked on throughout the year')\n",
    "plt.ylabel('Count of Genres')\n",
    "plt.xlabel('Genres')\n",
    "plt.show()"
   ]
  },
  {
   "cell_type": "markdown",
   "id": "53cfbabc",
   "metadata": {},
   "source": [
    "From the viz above; Genre mix - Drama/Romance,Comedy/Drama can be seen to be high produced genres throughout the year .\n",
    "For sure,most viewers love to laugh and 'Comedy' genre is popular among film-makers."
   ]
  },
  {
   "cell_type": "markdown",
   "id": "75f1e0b0",
   "metadata": {},
   "source": [
    "does the number of movies a certain Director has worked on determine how popular/succesful his movie can be?."
   ]
  },
  {
   "cell_type": "code",
   "execution_count": 78,
   "id": "fb8ec286",
   "metadata": {},
   "outputs": [
    {
     "data": {
      "text/html": [
       "<div>\n",
       "<style scoped>\n",
       "    .dataframe tbody tr th:only-of-type {\n",
       "        vertical-align: middle;\n",
       "    }\n",
       "\n",
       "    .dataframe tbody tr th {\n",
       "        vertical-align: top;\n",
       "    }\n",
       "\n",
       "    .dataframe thead th {\n",
       "        text-align: right;\n",
       "    }\n",
       "</style>\n",
       "<table border=\"1\" class=\"dataframe\">\n",
       "  <thead>\n",
       "    <tr style=\"text-align: right;\">\n",
       "      <th></th>\n",
       "      <th>director</th>\n",
       "    </tr>\n",
       "  </thead>\n",
       "  <tbody>\n",
       "    <tr>\n",
       "      <th>Woody Allen</th>\n",
       "      <td>45</td>\n",
       "    </tr>\n",
       "    <tr>\n",
       "      <th>Anonymous</th>\n",
       "      <td>44</td>\n",
       "    </tr>\n",
       "    <tr>\n",
       "      <th>Clint Eastwood</th>\n",
       "      <td>34</td>\n",
       "    </tr>\n",
       "    <tr>\n",
       "      <th>Martin Scorsese</th>\n",
       "      <td>29</td>\n",
       "    </tr>\n",
       "    <tr>\n",
       "      <th>Steven Spielberg</th>\n",
       "      <td>29</td>\n",
       "    </tr>\n",
       "    <tr>\n",
       "      <th>...</th>\n",
       "      <td>...</td>\n",
       "    </tr>\n",
       "    <tr>\n",
       "      <th>Jeffrey Porter</th>\n",
       "      <td>1</td>\n",
       "    </tr>\n",
       "    <tr>\n",
       "      <th>Larry Shaw</th>\n",
       "      <td>1</td>\n",
       "    </tr>\n",
       "    <tr>\n",
       "      <th>Bill Pohlad</th>\n",
       "      <td>1</td>\n",
       "    </tr>\n",
       "    <tr>\n",
       "      <th>Andy Hamilton|Guy Jenkin</th>\n",
       "      <td>1</td>\n",
       "    </tr>\n",
       "    <tr>\n",
       "      <th>Harold P. Warren</th>\n",
       "      <td>1</td>\n",
       "    </tr>\n",
       "  </tbody>\n",
       "</table>\n",
       "<p>5068 rows × 1 columns</p>\n",
       "</div>"
      ],
      "text/plain": [
       "                          director\n",
       "Woody Allen                     45\n",
       "Anonymous                       44\n",
       "Clint Eastwood                  34\n",
       "Martin Scorsese                 29\n",
       "Steven Spielberg                29\n",
       "...                            ...\n",
       "Jeffrey Porter                   1\n",
       "Larry Shaw                       1\n",
       "Bill Pohlad                      1\n",
       "Andy Hamilton|Guy Jenkin         1\n",
       "Harold P. Warren                 1\n",
       "\n",
       "[5068 rows x 1 columns]"
      ]
     },
     "execution_count": 78,
     "metadata": {},
     "output_type": "execute_result"
    }
   ],
   "source": [
    "df_dc = df_md['director'].value_counts()\n",
    "df_d = df_dc.to_frame()\n",
    "df_d"
   ]
  },
  {
   "cell_type": "code",
   "execution_count": 79,
   "id": "e013fa48",
   "metadata": {},
   "outputs": [],
   "source": [
    "#viz below shows us the director with the highest number of movies \n",
    "df1 = df_d.nlargest(4,columns = ['director'])"
   ]
  },
  {
   "cell_type": "code",
   "execution_count": 82,
   "id": "eb3c6f9b",
   "metadata": {},
   "outputs": [
    {
     "data": {
      "image/png": "[encoded data removed]",
      "text/plain": [
       "<Figure size 432x288 with 1 Axes>"
      ]
     },
     "metadata": {
      "needs_background": "light"
     },
     "output_type": "display_data"
    }
   ],
   "source": [
    "df1.plot(kind = 'line')\n",
    "plt.title('Directors with the Most movies worked on')\n",
    "plt.ylabel('Count of Movies directed')\n",
    "plt.xlabel('Director Names')\n",
    "plt.show()"
   ]
  },
  {
   "cell_type": "markdown",
   "id": "0c56fe52",
   "metadata": {},
   "source": [
    "Above,we plotted count of movies against top(4) Director names to try to ascertain that director that has worked on \n",
    "a high number of movies and do a comparison with the Director that produced the popular movie 'Jurassic World' \n",
    "which we got from our analysis.\n",
    "The Comparison was made to actually check if the number of movies a director has produced is a neccessary factor in making\n",
    "his movies successful or rated highly.This graph tells us this is not the case."
   ]
  },
  {
   "cell_type": "markdown",
   "id": "e9e2b523",
   "metadata": {},
   "source": [
    "CONCLUSION(COMMUNICATING OUR RESULTS)"
   ]
  },
  {
   "cell_type": "markdown",
   "id": "956ab69d",
   "metadata": {},
   "source": [
    "From the visualisation showing directors with the number of movies they have worked on, we observed that Director Woody Allen \n",
    "has a directed a lot of movies,but the most popular/highly rated movie - 'Jurassic World' which we got from our analysis was \n",
    "directed by a Colin Trevorrow.This gives us a little certainty to our question that irrespective of the number of movies a \n",
    "director has worked on,its not a guarantee that his movies will always be highly rated.\n",
    "But notice the downward nature of the line graph,does this mean we have a lot of directors now making it more competitive \n",
    "out there for one Director to direct a lot of movies?.\n",
    "\n",
    "The Most popular movies were measured with respect to popularity column owing to the fact that tmdb calculates their Popular\n",
    "movies with the vote averages gotten from the vote counts of users.So having the highest rating for the popularity column,\n",
    "shows the popularity of a movie which was 'Jurassic World','Mad Mx:Fury Road' and so on in thar order.\n",
    "\n",
    "Which genre of movie has been produced more throughout?, Please note that Genre mixing is common in recent times and also help\n",
    "to show case how creative a Director can be.Hence the reason why each definite genre were not seperated(split) when doing my\n",
    "analysis.Notice how close Genre types 'Comedy' and 'Drama' are to each other as the top most genre of movies film-makers produce.\n",
    "Also Genre mix; Drama/Romance,Comedy/Drama are also in the mix of high produced genres.One thing is certain, most viewers \n",
    "love to laugh and 'Comedy' genre is popular among film-makers."
   ]
  },
  {
   "cell_type": "markdown",
   "id": "0cc60f14",
   "metadata": {},
   "source": [
    "LIMITATIONS\n"
   ]
  },
  {
   "cell_type": "markdown",
   "id": "ef8e7729",
   "metadata": {},
   "source": [
    "The missing values in most of the columns tried  to hinder my analysis for the Directors with Most movies\n",
    "worked on as i had to fill the empty and missing rows with \"Anonymous\" which was seen on the viz.This signify \n",
    "no data was collected as to who produced some movies in the dataset and might as well have had an effect on the outcome of \n",
    "if Director Woody Allen actually had the highest movies made or worked on .Hence making the ASSERTION that highest \n",
    "number of movies directed by a director might actually make his movies highly rATED somewhat true.\n"
   ]
  },
  {
   "cell_type": "markdown",
   "id": "4763a12d",
   "metadata": {},
   "source": [
    "LIST OF WEBSITES - www.stackoverflow.com"
   ]
  },
  {
   "cell_type": "code",
   "execution_count": null,
   "id": "75cfa85c",
   "metadata": {},
   "outputs": [],
   "source": []
  }
 ],
 "metadata": {
  "kernelspec": {
   "display_name": "Python 3 (ipykernel)",
   "language": "python",
   "name": "python3"
  },
  "language_info": {
   "codemirror_mode": {
    "name": "ipython",
    "version": 3
   },
   "file_extension": ".py",
   "mimetype": "text/x-python",
   "name": "python",
   "nbconvert_exporter": "python",
   "pygments_lexer": "ipython3",
   "version": "3.9.12"
  }
 },
 "nbformat": 4,
 "nbformat_minor": 5
}
